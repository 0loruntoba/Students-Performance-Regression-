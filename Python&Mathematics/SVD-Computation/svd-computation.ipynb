{
 "cells": [
  {
   "cell_type": "code",
   "execution_count": 1,
   "id": "4384c827",
   "metadata": {
    "execution": {
     "iopub.execute_input": "2024-05-05T00:06:13.387830Z",
     "iopub.status.busy": "2024-05-05T00:06:13.387346Z",
     "iopub.status.idle": "2024-05-05T00:06:13.428727Z",
     "shell.execute_reply": "2024-05-05T00:06:13.426903Z"
    },
    "papermill": {
     "duration": 0.048758,
     "end_time": "2024-05-05T00:06:13.431567",
     "exception": false,
     "start_time": "2024-05-05T00:06:13.382809",
     "status": "completed"
    },
    "tags": []
   },
   "outputs": [
    {
     "name": "stdout",
     "output_type": "stream",
     "text": [
      "U matrix:\n",
      "[[-0.40266324 -0.91534819]\n",
      " [-0.91534819  0.40266324]]\n",
      "\n",
      "Sigma matrix:\n",
      "[[4.43163743 0.         0.        ]\n",
      " [0.         1.83319113 0.        ]]\n",
      "\n",
      "V^T (V Transpose) matrix:\n",
      "[[ 0.32223601 -0.80136769 -0.50395811]\n",
      " [-0.93862263 -0.33968453 -0.0600165 ]\n",
      " [ 0.12309149 -0.49236596  0.86164044]]\n",
      "\n",
      "Reconstructed A matrix from U, Sigma, and V^T:\n",
      "[[ 1.  2.  1.]\n",
      " [-2.  3.  2.]]\n"
     ]
    }
   ],
   "source": [
    "import numpy as np\n",
    "\n",
    "# Define the matrix\n",
    "A = np.array([[1, 2, 1], [-2, 3, 2]])\n",
    "\n",
    "# Perform SVD\n",
    "U, s, VT = np.linalg.svd(A)\n",
    "\n",
    "# Create a sigma matrix with the correct dimensions (2x3)\n",
    "Sigma = np.zeros((2, 3))\n",
    "Sigma[0, 0], Sigma[1, 1] = s[0], s[1]\n",
    "\n",
    "# Multiplying U, Sigma, and V^T\n",
    "A_reconstructed = np.dot(U, np.dot(Sigma, VT))\n",
    "\n",
    "# Display the results\n",
    "print(\"U matrix:\")\n",
    "print(U)\n",
    "print(\"\\nSigma matrix:\")\n",
    "print(Sigma)\n",
    "print(\"\\nV^T (V Transpose) matrix:\")\n",
    "print(VT)\n",
    "print(\"\\nReconstructed A matrix from U, Sigma, and V^T:\")\n",
    "print(A_reconstructed)"
   ]
  },
  {
   "cell_type": "code",
   "execution_count": 2,
   "id": "0cc0e112",
   "metadata": {
    "execution": {
     "iopub.execute_input": "2024-05-05T00:06:13.437655Z",
     "iopub.status.busy": "2024-05-05T00:06:13.437240Z",
     "iopub.status.idle": "2024-05-05T00:06:13.446297Z",
     "shell.execute_reply": "2024-05-05T00:06:13.444943Z"
    },
    "papermill": {
     "duration": 0.014761,
     "end_time": "2024-05-05T00:06:13.448537",
     "exception": false,
     "start_time": "2024-05-05T00:06:13.433776",
     "status": "completed"
    },
    "tags": []
   },
   "outputs": [
    {
     "name": "stdout",
     "output_type": "stream",
     "text": [
      "U matrix:\n",
      "[[-0.40266324 -0.91534819]\n",
      " [-0.91534819  0.40266324]]\n",
      "\n",
      "Sigma matrix:\n",
      "[[4.43163743 0.        ]\n",
      " [0.         1.83319113]]\n",
      "\n",
      "V^T (V Transpose) matrix:\n",
      "[[ 0.32223601 -0.80136769 -0.50395811]\n",
      " [-0.93862263 -0.33968453 -0.0600165 ]\n",
      " [ 0.12309149 -0.49236596  0.86164044]]\n",
      "\n",
      "Reconstructed A matrix from U, Sigma, and V^T:\n",
      "[[ 1.  2.  1.]\n",
      " [-2.  3.  2.]]\n"
     ]
    }
   ],
   "source": [
    "import numpy as np\n",
    "\n",
    "# Define the matrix\n",
    "A = np.array([[1, 2, 1], [-2, 3, 2]])\n",
    "\n",
    "# Perform SVD\n",
    "U, S, VT = np.linalg.svd(A)\n",
    "\n",
    "# Multiplying U, Sigma, and V^T\n",
    "A_reconstructed = np.dot(U, np.dot(Sigma, VT))\n",
    "\n",
    "# Print the U, S, V^T and Reconstructed A matrices\n",
    "print(\"U matrix:\")\n",
    "print(U)\n",
    "print(\"\\nSigma matrix:\")\n",
    "print(np.diag(S))\n",
    "print(\"\\nV^T (V Transpose) matrix:\")\n",
    "print(VT)\n",
    "print(\"\\nReconstructed A matrix from U, Sigma, and V^T:\")\n",
    "print(A_reconstructed)"
   ]
  }
 ],
 "metadata": {
  "kaggle": {
   "accelerator": "none",
   "dataSources": [],
   "dockerImageVersionId": 30698,
   "isGpuEnabled": false,
   "isInternetEnabled": false,
   "language": "python",
   "sourceType": "notebook"
  },
  "kernelspec": {
   "display_name": "Python 3",
   "language": "python",
   "name": "python3"
  },
  "language_info": {
   "codemirror_mode": {
    "name": "ipython",
    "version": 3
   },
   "file_extension": ".py",
   "mimetype": "text/x-python",
   "name": "python",
   "nbconvert_exporter": "python",
   "pygments_lexer": "ipython3",
   "version": "3.10.13"
  },
  "papermill": {
   "default_parameters": {},
   "duration": 3.743302,
   "end_time": "2024-05-05T00:06:14.077259",
   "environment_variables": {},
   "exception": null,
   "input_path": "__notebook__.ipynb",
   "output_path": "__notebook__.ipynb",
   "parameters": {},
   "start_time": "2024-05-05T00:06:10.333957",
   "version": "2.5.0"
  }
 },
 "nbformat": 4,
 "nbformat_minor": 5
}
